{
  "nbformat": 4,
  "nbformat_minor": 0,
  "metadata": {
    "colab": {
      "provenance": []
    },
    "kernelspec": {
      "name": "python3",
      "display_name": "Python 3"
    },
    "language_info": {
      "name": "python"
    }
  },
  "cells": [
    {
      "cell_type": "code",
      "execution_count": null,
      "metadata": {
        "colab": {
          "base_uri": "https://localhost:8080/"
        },
        "id": "i_odbPskwcNG",
        "outputId": "219d3a33-2b11-4b0b-ca08-e400c691e090"
      },
      "outputs": [
        {
          "output_type": "stream",
          "name": "stdout",
          "text": [
            "Collecting yt-dlp\n",
            "  Downloading yt_dlp-2024.7.9-py3-none-any.whl (3.1 MB)\n",
            "\u001b[2K     \u001b[90m━━━━━━━━━━━━━━━━━━━━━━━━━━━━━━━━━━━━━━━━\u001b[0m \u001b[32m3.1/3.1 MB\u001b[0m \u001b[31m7.0 MB/s\u001b[0m eta \u001b[36m0:00:00\u001b[0m\n",
            "\u001b[?25hCollecting pydub\n",
            "  Downloading pydub-0.25.1-py2.py3-none-any.whl (32 kB)\n",
            "Collecting brotli (from yt-dlp)\n",
            "  Downloading Brotli-1.1.0-cp310-cp310-manylinux_2_5_x86_64.manylinux1_x86_64.manylinux_2_12_x86_64.manylinux2010_x86_64.whl (3.0 MB)\n",
            "\u001b[2K     \u001b[90m━━━━━━━━━━━━━━━━━━━━━━━━━━━━━━━━━━━━━━━━\u001b[0m \u001b[32m3.0/3.0 MB\u001b[0m \u001b[31m17.1 MB/s\u001b[0m eta \u001b[36m0:00:00\u001b[0m\n",
            "\u001b[?25hRequirement already satisfied: certifi in /usr/local/lib/python3.10/dist-packages (from yt-dlp) (2024.6.2)\n",
            "Collecting mutagen (from yt-dlp)\n",
            "  Downloading mutagen-1.47.0-py3-none-any.whl (194 kB)\n",
            "\u001b[2K     \u001b[90m━━━━━━━━━━━━━━━━━━━━━━━━━━━━━━━━━━━━━━━━\u001b[0m \u001b[32m194.4/194.4 kB\u001b[0m \u001b[31m15.8 MB/s\u001b[0m eta \u001b[36m0:00:00\u001b[0m\n",
            "\u001b[?25hCollecting pycryptodomex (from yt-dlp)\n",
            "  Downloading pycryptodomex-3.20.0-cp35-abi3-manylinux_2_17_x86_64.manylinux2014_x86_64.whl (2.1 MB)\n",
            "\u001b[2K     \u001b[90m━━━━━━━━━━━━━━━━━━━━━━━━━━━━━━━━━━━━━━━━\u001b[0m \u001b[32m2.1/2.1 MB\u001b[0m \u001b[31m24.8 MB/s\u001b[0m eta \u001b[36m0:00:00\u001b[0m\n",
            "\u001b[?25hCollecting requests<3,>=2.32.2 (from yt-dlp)\n",
            "  Downloading requests-2.32.3-py3-none-any.whl (64 kB)\n",
            "\u001b[2K     \u001b[90m━━━━━━━━━━━━━━━━━━━━━━━━━━━━━━━━━━━━━━━━\u001b[0m \u001b[32m64.9/64.9 kB\u001b[0m \u001b[31m5.2 MB/s\u001b[0m eta \u001b[36m0:00:00\u001b[0m\n",
            "\u001b[?25hRequirement already satisfied: urllib3<3,>=1.26.17 in /usr/local/lib/python3.10/dist-packages (from yt-dlp) (2.0.7)\n",
            "Collecting websockets>=12.0 (from yt-dlp)\n",
            "  Downloading websockets-12.0-cp310-cp310-manylinux_2_5_x86_64.manylinux1_x86_64.manylinux_2_17_x86_64.manylinux2014_x86_64.whl (130 kB)\n",
            "\u001b[2K     \u001b[90m━━━━━━━━━━━━━━━━━━━━━━━━━━━━━━━━━━━━━━━━\u001b[0m \u001b[32m130.2/130.2 kB\u001b[0m \u001b[31m7.4 MB/s\u001b[0m eta \u001b[36m0:00:00\u001b[0m\n",
            "\u001b[?25hRequirement already satisfied: charset-normalizer<4,>=2 in /usr/local/lib/python3.10/dist-packages (from requests<3,>=2.32.2->yt-dlp) (3.3.2)\n",
            "Requirement already satisfied: idna<4,>=2.5 in /usr/local/lib/python3.10/dist-packages (from requests<3,>=2.32.2->yt-dlp) (3.7)\n",
            "Installing collected packages: pydub, brotli, websockets, requests, pycryptodomex, mutagen, yt-dlp\n",
            "  Attempting uninstall: requests\n",
            "    Found existing installation: requests 2.31.0\n",
            "    Uninstalling requests-2.31.0:\n",
            "      Successfully uninstalled requests-2.31.0\n",
            "\u001b[31mERROR: pip's dependency resolver does not currently take into account all the packages that are installed. This behaviour is the source of the following dependency conflicts.\n",
            "google-colab 1.0.0 requires requests==2.31.0, but you have requests 2.32.3 which is incompatible.\u001b[0m\u001b[31m\n",
            "\u001b[0mSuccessfully installed brotli-1.1.0 mutagen-1.47.0 pycryptodomex-3.20.0 pydub-0.25.1 requests-2.32.3 websockets-12.0 yt-dlp-2024.7.9\n"
          ]
        }
      ],
      "source": [
        "!pip install yt-dlp pydub\n"
      ]
    },
    {
      "cell_type": "code",
      "source": [
        "import os\n",
        "from pydub import AudioSegment\n",
        "from yt_dlp import YoutubeDL"
      ],
      "metadata": {
        "id": "zOF386drw0pV"
      },
      "execution_count": null,
      "outputs": []
    },
    {
      "cell_type": "code",
      "source": [
        "def download_audio(video_url, output_dir, filename='temp.mp3'):\n",
        "    ydl_opts = {\n",
        "        'format': 'bestaudio/best',\n",
        "        'outtmpl': os.path.join(output_dir, filename),\n",
        "        'postprocessors': [{\n",
        "            'key': 'FFmpegExtractAudio',\n",
        "            'preferredcodec': 'mp3',\n",
        "            'preferredquality': '192',\n",
        "        }],\n",
        "    }\n",
        "    with YoutubeDL(ydl_opts) as ydl:\n",
        "        ydl.download([video_url])\n",
        "    return os.path.join(output_dir, filename)"
      ],
      "metadata": {
        "id": "wyguKLYO2W2i"
      },
      "execution_count": null,
      "outputs": []
    },
    {
      "cell_type": "code",
      "source": [
        "def extract_audio_segment(video_path, output_path, start_time, end_time):\n",
        "    try:\n",
        "        # Load the downloaded audio file\n",
        "        audio = AudioSegment.from_file(video_path, format='mp3')\n",
        "\n",
        "        # Calculate start and end times in milliseconds\n",
        "        start_ms = start_time * 1000\n",
        "        end_ms = end_time * 1000\n",
        "\n",
        "        # Extract audio segment\n",
        "        audio_segment = audio[start_ms:end_ms]\n",
        "\n",
        "        # Export audio segment\n",
        "        audio_segment.export(output_path, format='mp3')\n",
        "    finally:\n",
        "        # Ensure the temporary file is deleted\n",
        "        if os.path.exists(video_path):\n",
        "            os.remove(video_path)\n"
      ],
      "metadata": {
        "id": "GUuyffbnzGfv"
      },
      "execution_count": null,
      "outputs": []
    },
    {
      "cell_type": "code",
      "source": [
        "# Example usage\n",
        "video_url = 'https://www.youtube.com/watch?v=Carlxuj36mM'  # Example video URL\n",
        "output_dir = '/content/drive/MyDrive/EXTRACTED AUDIO(FROM YOUTUBE VIDEOS)'  # Output directory for the audio file\n",
        "output_path = '/content/drive/MyDrive/EXTRACTED AUDIO(FROM YOUTUBE VIDEOS)/AUDIO CLIP 10.mp3'  # Output audio file path\n",
        "start_time = 125  # Start time of the segment in seconds\n",
        "end_time = 132  # End time of the segment in seconds"
      ],
      "metadata": {
        "id": "X7bPX_M2xQ1K"
      },
      "execution_count": null,
      "outputs": []
    },
    {
      "cell_type": "code",
      "source": [
        "# Ensure output directory exists\n",
        "os.makedirs(output_dir, exist_ok=True)"
      ],
      "metadata": {
        "id": "2mGPU3PozQ0K"
      },
      "execution_count": null,
      "outputs": []
    },
    {
      "cell_type": "code",
      "source": [
        "# Download audio and extract audio segment\n",
        "audio_path = download_audio(video_url, output_dir)"
      ],
      "metadata": {
        "colab": {
          "base_uri": "https://localhost:8080/"
        },
        "id": "InKJdtZhxdsz",
        "outputId": "818b55f1-c392-4438-8bc1-56c9632359c6"
      },
      "execution_count": null,
      "outputs": [
        {
          "output_type": "stream",
          "name": "stdout",
          "text": [
            "[youtube] Extracting URL: https://www.youtube.com/watch?v=Carlxuj36mM\n",
            "[youtube] Carlxuj36mM: Downloading webpage\n",
            "[youtube] Carlxuj36mM: Downloading ios player API JSON\n",
            "[youtube] Carlxuj36mM: Downloading m3u8 information\n",
            "[info] Carlxuj36mM: Downloading 1 format(s): 251\n",
            "[download] Destination: /content/drive/MyDrive/EXTRACTED AUDIO(FROM YOUTUBE VIDEOS)/temp.mp3\n",
            "[download] 100% of   15.21MiB in 00:00:00 at 36.42MiB/s  \n",
            "[ExtractAudio] Destination: /content/drive/MyDrive/EXTRACTED AUDIO(FROM YOUTUBE VIDEOS)/temp.mp3.mp3\n",
            "Deleting original file /content/drive/MyDrive/EXTRACTED AUDIO(FROM YOUTUBE VIDEOS)/temp.mp3 (pass -k to keep)\n"
          ]
        }
      ]
    },
    {
      "cell_type": "code",
      "source": [
        "extract_audio_segment(audio_path, output_path, start_time, end_time)\n"
      ],
      "metadata": {
        "id": "GQmSUTrwxlIX"
      },
      "execution_count": null,
      "outputs": []
    }
  ]
}